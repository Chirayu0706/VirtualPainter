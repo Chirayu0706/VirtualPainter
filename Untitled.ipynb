{
 "cells": [
  {
   "cell_type": "code",
   "execution_count": 1,
   "id": "2b9d5edb",
   "metadata": {},
   "outputs": [],
   "source": [
    "import cv2\n",
    "import HandTrackingModule as htm\n",
    "import numpy as np"
   ]
  },
  {
   "cell_type": "code",
   "execution_count": null,
   "id": "e0b90e3a",
   "metadata": {
    "scrolled": true
   },
   "outputs": [],
   "source": [
    "brushThickness = 15\n",
    "eraserThickness = 100\n",
    "color=(55,128,0)\n",
    "selector = cv2.imread('Ignore.jpg')\n",
    "capture = cv2.VideoCapture(0)\n",
    "detector = htm.handDetector(detectionCon=0.65,maxHands=1)\n",
    "xp, yp = 0, 0\n",
    "flag=0\n",
    "imgCanvas = np.zeros((310,600, 3), np.uint8)\n",
    "imgCanvas[:310,:100] = selector\n",
    "#imgCanvas = cv2.hconcat([selector2, imgCanvas])\n",
    "while True:\n",
    "    success, img = capture.read()\n",
    "    img = cv2.flip(img, 1)\n",
    "    img[:310,:100] = selector\n",
    "    img = detector.findHands(img,draw=False)\n",
    "    lmList = detector.findPosition(img, draw=False)\n",
    "    if len(lmList) != 0:\n",
    "        x1, y1 = lmList[8][1:]\n",
    "        x2, y2 = lmList[12][1:]\n",
    "        cv2.circle(img,(x1,y1),9,color,-1)\n",
    "        if lmList[8][2]<lmList[7][2] and lmList[12][2]<lmList[11][2]:\n",
    "            xp, yp = x1, y1\n",
    "            if x1<110 and y1<61:\n",
    "                color=(55,128,0)\n",
    "            elif x1<110 and y1>61 and y1<114:\n",
    "                color=(173,74,0)\n",
    "            elif x1<110 and y1>114 and y1<166:\n",
    "                color=(196,102,255)\n",
    "            elif x1<110 and y1>166 and y1<268:\n",
    "                color=(0,0,0)\n",
    "            elif x1<110 and y1>268 and y1<310:\n",
    "                imgCanvas = np.zeros((310,600, 3), np.uint8)\n",
    "                imgCanvas[:310,:100] = selector\n",
    "        if y1<310 and x1>105:\n",
    "            if lmList[8][2]<lmList[7][2] and lmList[12][2]>lmList[11][2]and lmList[16][2]>lmList[15][2] and lmList[20][2]>lmList[19][2]:\n",
    "                if xp == 0 and yp == 0:\n",
    "                    xp, yp = x1, y1\n",
    "                cv2.line(imgCanvas, (xp, yp), (x1, y1), color, brushThickness)\n",
    "                xp, yp = x1, y1\n",
    "    cv2.imshow('Video',img)\n",
    "    cv2.imshow('Drawing',imgCanvas)\n",
    "    if cv2.waitKey(20) & 0xFF==ord('d'):\n",
    "        cv2.destroyAllWindows()\n",
    "        break\n",
    "capture.release()"
   ]
  },
  {
   "cell_type": "code",
   "execution_count": null,
   "id": "3f7c464b",
   "metadata": {},
   "outputs": [],
   "source": []
  }
 ],
 "metadata": {
  "kernelspec": {
   "display_name": "Python 3 (ipykernel)",
   "language": "python",
   "name": "python3"
  },
  "language_info": {
   "codemirror_mode": {
    "name": "ipython",
    "version": 3
   },
   "file_extension": ".py",
   "mimetype": "text/x-python",
   "name": "python",
   "nbconvert_exporter": "python",
   "pygments_lexer": "ipython3",
   "version": "3.9.7"
  }
 },
 "nbformat": 4,
 "nbformat_minor": 5
}
